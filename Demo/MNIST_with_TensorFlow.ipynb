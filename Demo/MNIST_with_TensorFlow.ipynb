{
  "cells": [
    {
      "cell_type": "code",
      "execution_count": 1,
      "metadata": {
        "id": "OMBbDDfY0Rcu"
      },
      "outputs": [
        {
          "name": "stdout",
          "output_type": "stream",
          "text": [
            "WARNING:tensorflow:From C:\\Users\\DELL\\AppData\\Local\\Temp\\ipykernel_7868\\1139171567.py:7: The name tf.disable_eager_execution is deprecated. Please use tf.compat.v1.disable_eager_execution instead.\n",
            "\n"
          ]
        }
      ],
      "source": [
        "import numpy as np\n",
        "import pandas as pd\n",
        "import matplotlib.pyplot as plt\n",
        "from keras.datasets import mnist\n",
        "from keras.utils import to_categorical\n",
        "import tensorflow.compat.v1 as tf\n",
        "tf.compat.v1.disable_eager_execution()\n",
        "\n",
        "import time\n"
      ]
    },
    {
      "cell_type": "markdown",
      "metadata": {
        "id": "-0iFDWCQFLj6"
      },
      "source": [
        "### **Load the data:**"
      ]
    },
    {
      "cell_type": "code",
      "execution_count": 2,
      "metadata": {
        "colab": {
          "base_uri": "https://localhost:8080/"
        },
        "id": "hKfNluznEaze",
        "outputId": "b4f730e4-c1eb-4435-e9e3-aa0d4476a59c"
      },
      "outputs": [
        {
          "name": "stdout",
          "output_type": "stream",
          "text": [
            "Train set: (60000, 28, 28)\n",
            "Test set: (10000, 28, 28)\n"
          ]
        }
      ],
      "source": [
        "(X_train, y_train),(X_test, y_test) = mnist.load_data()\n",
        "print('Train set:', X_train.shape)\n",
        "print('Test set:', X_test.shape)"
      ]
    },
    {
      "cell_type": "code",
      "execution_count": 3,
      "metadata": {
        "colab": {
          "base_uri": "https://localhost:8080/",
          "height": 284
        },
        "id": "6jBN1n02FQwE",
        "outputId": "11bf8377-bb85-4e09-8c8f-4e55adc5b06b"
      },
      "outputs": [
        {
          "data": {
            "image/png": "[encoded data removed]",
            "text/plain": [
              "<Figure size 1200x300 with 16 Axes>"
            ]
          },
          "metadata": {},
          "output_type": "display_data"
        }
      ],
      "source": [
        "\n",
        "fig, axes = plt.subplots(2, 8, figsize=(12, 3))\n",
        "\n",
        "for i in range(16):\n",
        "\n",
        "    ax = axes[i // 8, i % 8]\n",
        "    ax.imshow(X_train[i], cmap='gray')\n",
        "    ax.axis('off')\n",
        "    ax.set_title(f'Label: {y_train[i]}', fontweight = 'bold')\n",
        "plt.show()"
      ]
    },
    {
      "cell_type": "code",
      "execution_count": 4,
      "metadata": {
        "id": "g7-P_Qi2GL9x"
      },
      "outputs": [],
      "source": [
        "X_train = X_train.reshape(-1,28,28,1)\n",
        "X_test  = X_test.reshape(-1,28,28,1)\n",
        "X_train = X_train / 255\n",
        "X_test  = X_test / 255\n",
        "y_train = to_categorical(y_train, num_classes=10)\n",
        "y_test  = to_categorical(y_test, num_classes=10)"
      ]
    },
    {
      "cell_type": "markdown",
      "metadata": {},
      "source": [
        "### **Modeling:**"
      ]
    },
    {
      "cell_type": "code",
      "execution_count": 5,
      "metadata": {
        "id": "WMn4tWYAGSha"
      },
      "outputs": [],
      "source": [
        "def relu (X) :\n",
        "    return tf.nn.relu(X)\n",
        "\n",
        "def Conv2D(X, weight_shape):\n",
        "    weights = tf.Variable(tf.random.normal(weight_shape))\n",
        "    conv_matrix = tf.nn.conv2d(input=X, filters=weights, strides=[1,1,1,1], padding='SAME')\n",
        "    return relu(conv_matrix)\n",
        "\n",
        "def MaxPool(x, k, stride):\n",
        "    return tf.nn.max_pool(x, ksize=k, strides=stride, padding='SAME')\n",
        "\n",
        "def Dropout(x, prob):\n",
        "    return tf.nn.dropout(x, prob)\n",
        "\n",
        "def Dense(x, size):\n",
        "    weights = tf.Variable(tf.random.normal([int(x.get_shape()[1]), size], mean=0, stddev=1))\n",
        "    return tf.matmul(x, weights)\n",
        "\n",
        "def Softmax(x):\n",
        "  return tf.nn.softmax(x)\n",
        "\n",
        "def CrossEntropy(predicted, y):\n",
        "  return tf.reduce_mean(tf.nn.softmax_cross_entropy_with_logits(logits=predicted, labels=y))"
      ]
    },
    {
      "cell_type": "code",
      "execution_count": 6,
      "metadata": {
        "id": "ar7om2kBG2l0"
      },
      "outputs": [],
      "source": [
        "\n",
        "\n",
        "def convolutional_neural_network(x):\n",
        "\n",
        "    # Hidden layer 1\n",
        "    conv_layer_1 = Conv2D(x, [3,3,1,32])\n",
        "    max_pool_layer_1 = MaxPool(conv_layer_1, [1,2,2,1], [1,2,2,1])\n",
        "\n",
        "    # Hidden layer 2\n",
        "    conv_layer_2 = Conv2D(max_pool_layer_1, [3,3,32,64])\n",
        "    max_pool_layer_2 = MaxPool(conv_layer_2, [1,2,2,1], [1,2,2,1])\n",
        "\n",
        "    # Drop out layer to prevent overfitting\n",
        "    dropout_layer = Dropout(max_pool_layer_2, 0.75)\n",
        "\n",
        "    flatten_layer = tf.reshape(dropout_layer, [-1, 7*7*64])\n",
        "    output_layer = Dense(flatten_layer, 10)\n",
        "\n",
        "    return output_layer\n"
      ]
    },
    {
      "cell_type": "code",
      "execution_count": 7,
      "metadata": {},
      "outputs": [
        {
          "name": "stdout",
          "output_type": "stream",
          "text": [
            "WARNING:tensorflow:From C:\\Users\\DELL\\AppData\\Local\\Temp\\ipykernel_7868\\3446754630.py:3: The name tf.reset_default_graph is deprecated. Please use tf.compat.v1.reset_default_graph instead.\n",
            "\n"
          ]
        }
      ],
      "source": [
        "max_epoch = 10\n",
        "batch_size = 32\n",
        "tf.reset_default_graph()\n",
        "input = tf.placeholder(dtype=tf.float32, shape=(None,28,28,1), name='input')\n",
        "output = tf.placeholder(dtype=tf.float32, shape=(None,10), name='output')\n",
        "\n",
        "def train_neural_network(x):\n",
        "\n",
        "    prediction = convolutional_neural_network(x)\n",
        "    cost = CrossEntropy(prediction, output)\n",
        "    optimizer = tf.train.AdamOptimizer(learning_rate=0.01).minimize(cost)\n",
        "    correct = tf.equal(tf.argmax(prediction, 1), tf.argmax(output, 1))\n",
        "    accuracy = tf.reduce_mean(tf.cast(correct, tf.float32))\n",
        "\n",
        "    with tf.Session() as sess:\n",
        "        sess.run(tf.global_variables_initializer())\n",
        "        indices = np.arange(len(X_train))\n",
        "\n",
        "        for epoch in range(max_epoch):\n",
        "    \n",
        "            for i in range(0, len(X_train),  batch_size):\n",
        "\n",
        "                epoch_x = X_train[indices[i : i+batch_size]]\n",
        "                epoch_y = y_train[indices[i : i+batch_size]]\n",
        "                a,b,c = sess.run([accuracy, optimizer, cost], feed_dict={input: epoch_x, output: epoch_y})\n",
        "\n",
        "            result = sess.run([cost, accuracy],feed_dict={input:X_test, output:y_test})\n",
        "            print(f'Epoch [{epoch}/{max_epoch}], Accuracy_test: {result[1]}  Loss: {result[0]}')\n",
        "\n",
        "        print('Accuracy:',accuracy.eval({input:X_test, output:y_test}))\n",
        "    "
      ]
    },
    {
      "cell_type": "code",
      "execution_count": 8,
      "metadata": {
        "colab": {
          "base_uri": "https://localhost:8080/"
        },
        "id": "S_xU18VxG804",
        "outputId": "6a9a4622-1a67-40d0-96ac-f51bc5e3a196"
      },
      "outputs": [
        {
          "name": "stdout",
          "output_type": "stream",
          "text": [
            "WARNING:tensorflow:From C:\\Users\\DELL\\AppData\\Local\\Temp\\ipykernel_7868\\3804750678.py:10: The name tf.nn.max_pool is deprecated. Please use tf.nn.max_pool2d instead.\n",
            "\n",
            "WARNING:tensorflow:From d:\\python\\Lib\\site-packages\\tensorflow\\python\\util\\dispatch.py:1260: calling dropout (from tensorflow.python.ops.nn_ops) with keep_prob is deprecated and will be removed in a future version.\n",
            "Instructions for updating:\n",
            "Please use `rate` instead of `keep_prob`. Rate should be set to `rate = 1 - keep_prob`.\n",
            "WARNING:tensorflow:From d:\\python\\Lib\\site-packages\\tensorflow\\python\\util\\dispatch.py:1260: softmax_cross_entropy_with_logits (from tensorflow.python.ops.nn_ops) is deprecated and will be removed in a future version.\n",
            "Instructions for updating:\n",
            "\n",
            "Future major versions of TensorFlow will allow gradients to flow\n",
            "into the labels input on backprop by default.\n",
            "\n",
            "See `tf.nn.softmax_cross_entropy_with_logits_v2`.\n",
            "\n",
            "WARNING:tensorflow:From C:\\Users\\DELL\\AppData\\Local\\Temp\\ipykernel_7868\\3446754630.py:11: The name tf.train.AdamOptimizer is deprecated. Please use tf.compat.v1.train.AdamOptimizer instead.\n",
            "\n",
            "Epoch [0/10], Accuracy_test: 0.917900025844574  Loss: 1.9647804498672485\n",
            "Epoch [1/10], Accuracy_test: 0.9200999736785889  Loss: 0.638754665851593\n",
            "Epoch [2/10], Accuracy_test: 0.9381999969482422  Loss: 0.3331267833709717\n",
            "Epoch [3/10], Accuracy_test: 0.9379000067710876  Loss: 0.2615263760089874\n",
            "Epoch [4/10], Accuracy_test: 0.9391000270843506  Loss: 0.25692182779312134\n",
            "Epoch [5/10], Accuracy_test: 0.9505000114440918  Loss: 0.19345460832118988\n",
            "Epoch [6/10], Accuracy_test: 0.9370999932289124  Loss: 0.25403720140457153\n",
            "Epoch [7/10], Accuracy_test: 0.9480999708175659  Loss: 0.1840047538280487\n",
            "Epoch [8/10], Accuracy_test: 0.9634000062942505  Loss: 0.13078442215919495\n",
            "Epoch [9/10], Accuracy_test: 0.953000009059906  Loss: 0.1789465993642807\n",
            "Accuracy: 0.9528\n",
            "CNN training time with with TensorFlow: 174.72822189331055\n"
          ]
        }
      ],
      "source": [
        "start_time = time.time()\n",
        "\n",
        "train_neural_network(input)\n",
        "end_time = time.time()\n",
        "print(f'CNN training time with with TensorFlow: {end_time - start_time}')"
      ]
    }
  ],
  "metadata": {
    "colab": {
      "provenance": []
    },
    "kernelspec": {
      "display_name": "Python 3",
      "name": "python3"
    },
    "language_info": {
      "codemirror_mode": {
        "name": "ipython",
        "version": 3
      },
      "file_extension": ".py",
      "mimetype": "text/x-python",
      "name": "python",
      "nbconvert_exporter": "python",
      "pygments_lexer": "ipython3",
      "version": "3.11.4"
    }
  },
  "nbformat": 4,
  "nbformat_minor": 0
}
