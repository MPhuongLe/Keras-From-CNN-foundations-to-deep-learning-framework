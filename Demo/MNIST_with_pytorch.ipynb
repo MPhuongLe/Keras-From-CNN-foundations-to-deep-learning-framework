{
  "cells": [
    {
      "cell_type": "markdown",
      "metadata": {
        "id": "V8tc1rUeePmv"
      },
      "source": [
        "# **CNN with Pytorch:**"
      ]
    },
    {
      "cell_type": "code",
      "execution_count": 1,
      "metadata": {
        "id": "D3RP8dJ-QnH4"
      },
      "outputs": [],
      "source": [
        "import matplotlib.pyplot as plt\n",
        "import numpy as np\n",
        "import time\n",
        "\n",
        "import torch\n",
        "from torchvision import datasets\n",
        "from torchvision.transforms import ToTensor\n",
        "from torch.utils.data import DataLoader\n",
        "import torch.nn as nn\n",
        "from torch import optim\n",
        "from torch.autograd import Variable"
      ]
    },
    {
      "cell_type": "markdown",
      "metadata": {
        "id": "lKiIZc5gdsSC"
      },
      "source": [
        "Set the device for computation."
      ]
    },
    {
      "cell_type": "code",
      "execution_count": 2,
      "metadata": {
        "colab": {
          "base_uri": "https://localhost:8080/"
        },
        "id": "ekuICui9JQ6d",
        "outputId": "67c9cd1f-9672-491c-d1e9-762b1cc8ef6d"
      },
      "outputs": [
        {
          "name": "stdout",
          "output_type": "stream",
          "text": [
            "cpu\n"
          ]
        }
      ],
      "source": [
        "device = torch.device('cuda' if torch.cuda.is_available() else 'cpu')\n",
        "print(device)"
      ]
    },
    {
      "cell_type": "markdown",
      "metadata": {
        "id": "h8MX53j1fMv_"
      },
      "source": [
        "## **1. Load the data:**"
      ]
    },
    {
      "cell_type": "code",
      "execution_count": 3,
      "metadata": {
        "id": "TAYSrm4L1vcY"
      },
      "outputs": [],
      "source": [
        "train_data = datasets.MNIST(root = 'data',\n",
        "                            train = True,\n",
        "                            transform = ToTensor(),\n",
        "                            download = True)\n",
        "test_data = datasets.MNIST( root = 'data',\n",
        "                            train = False,\n",
        "                            transform = ToTensor(),\n",
        "                            download = True)"
      ]
    },
    {
      "cell_type": "markdown",
      "metadata": {
        "id": "aFFl0OMphiae"
      },
      "source": [
        "### **Create the dataloaders**"
      ]
    },
    {
      "cell_type": "code",
      "execution_count": 4,
      "metadata": {
        "colab": {
          "base_uri": "https://localhost:8080/"
        },
        "id": "NtVFMK1X3Lsc",
        "outputId": "1bd5d371-8aeb-4b31-d3e5-3e8fbee33589"
      },
      "outputs": [
        {
          "data": {
            "text/plain": [
              "{'train': <torch.utils.data.dataloader.DataLoader at 0x222ec77c250>,\n",
              " 'test': <torch.utils.data.dataloader.DataLoader at 0x222ea6c8fd0>}"
            ]
          },
          "execution_count": 4,
          "metadata": {},
          "output_type": "execute_result"
        }
      ],
      "source": [
        "\n",
        "loaders = {\n",
        "    'train' : DataLoader(train_data, batch_size=32, shuffle=True, num_workers = 2),\n",
        "    'test'  : DataLoader(test_data, batch_size=32, shuffle=True, num_workers = 2),\n",
        "}\n",
        "loaders"
      ]
    },
    {
      "cell_type": "code",
      "execution_count": 11,
      "metadata": {},
      "outputs": [
        {
          "data": {
            "text/plain": [
              "1875"
            ]
          },
          "execution_count": 11,
          "metadata": {},
          "output_type": "execute_result"
        }
      ],
      "source": [
        "len(loaders['train'])"
      ]
    },
    {
      "cell_type": "markdown",
      "metadata": {
        "id": "qQb82YoCjB7J"
      },
      "source": [
        "### **Some example images:**"
      ]
    },
    {
      "cell_type": "code",
      "execution_count": 12,
      "metadata": {
        "colab": {
          "base_uri": "https://localhost:8080/",
          "height": 284
        },
        "id": "My5th5twN7-j",
        "outputId": "b8803427-9ecf-4200-f3dc-7b4b80ad1424"
      },
      "outputs": [
        {
          "data": {
            "image/png": "[encoded data removed]",
            "text/plain": [
              "<Figure size 1200x300 with 16 Axes>"
            ]
          },
          "metadata": {},
          "output_type": "display_data"
        }
      ],
      "source": [
        "# Show the images\n",
        "fig, axes = plt.subplots(2, 8, figsize=(12, 3))\n",
        "\n",
        "for i in range(16):\n",
        "\n",
        "    ax = axes[i // 8, i % 8]\n",
        "    ax.imshow(train_data[i][0][0], cmap='gray')\n",
        "    ax.axis('off')\n",
        "    ax.set_title(f'Label: {train_data[i][1]}', fontweight = 'bold')\n",
        "plt.show()"
      ]
    },
    {
      "cell_type": "markdown",
      "metadata": {
        "id": "KTsT7G0ojsH8"
      },
      "source": [
        "## **2. Modeling:**\n",
        "### **Define CNN model:**"
      ]
    },
    {
      "cell_type": "code",
      "execution_count": 13,
      "metadata": {
        "id": "q2dI9OgA6flx"
      },
      "outputs": [],
      "source": [
        "class CNN(nn.Module):\n",
        "    def __init__(self):\n",
        "        super(CNN, self).__init__()\n",
        "\n",
        "        # Hidden layer 01\n",
        "        self.conv1 = nn.Sequential(\n",
        "            nn.Conv2d( in_channels=1, out_channels=32, kernel_size=3, stride=1, padding=1,),\n",
        "            nn.ReLU(),\n",
        "            nn.MaxPool2d(kernel_size=2, stride = 2),\n",
        "        )\n",
        "\n",
        "        # Hidden layer 02\n",
        "        self.conv2 = nn.Sequential(\n",
        "            nn.Conv2d(in_channels=32, out_channels=64, kernel_size=3, stride=1, padding=1),\n",
        "            nn.ReLU(),\n",
        "            nn.MaxPool2d(kernel_size = 2, stride = 2)\n",
        "        )\n",
        "        self.dropout_1 = nn.Dropout(0.25)\n",
        "        self.flatten = nn.Flatten()\n",
        "        self.dense_1 = nn.Linear(3136, 128)\n",
        "        self.dropout_2 = nn.Dropout(0.5)\n",
        "\n",
        "        self.dense_2 = nn.Linear(128,10)\n",
        "        self.log_softmax = nn.LogSoftmax(dim = 1)\n",
        "\n",
        "    def forward(self, x):\n",
        "        x = self.conv1(x)\n",
        "        x = self.conv2(x)\n",
        "        x = self.dropout_1(x)\n",
        "        x = self.flatten(x)\n",
        "        x = self.dense_1(x)\n",
        "        x = self.dropout_2(x)\n",
        "        x = self.dense_2(x)\n",
        "        output = self.log_softmax(x)\n",
        "        return output"
      ]
    },
    {
      "cell_type": "code",
      "execution_count": 14,
      "metadata": {
        "colab": {
          "base_uri": "https://localhost:8080/"
        },
        "id": "BjvMzXGzIKpP",
        "outputId": "4535157d-921e-407e-e5ce-6eec9a53168d"
      },
      "outputs": [
        {
          "name": "stdout",
          "output_type": "stream",
          "text": [
            "CNN(\n",
            "  (conv1): Sequential(\n",
            "    (0): Conv2d(1, 32, kernel_size=(3, 3), stride=(1, 1), padding=(1, 1))\n",
            "    (1): ReLU()\n",
            "    (2): MaxPool2d(kernel_size=2, stride=2, padding=0, dilation=1, ceil_mode=False)\n",
            "  )\n",
            "  (conv2): Sequential(\n",
            "    (0): Conv2d(32, 64, kernel_size=(3, 3), stride=(1, 1), padding=(1, 1))\n",
            "    (1): ReLU()\n",
            "    (2): MaxPool2d(kernel_size=2, stride=2, padding=0, dilation=1, ceil_mode=False)\n",
            "  )\n",
            "  (dropout_1): Dropout(p=0.25, inplace=False)\n",
            "  (flatten): Flatten(start_dim=1, end_dim=-1)\n",
            "  (dense_1): Linear(in_features=3136, out_features=128, bias=True)\n",
            "  (dropout_2): Dropout(p=0.5, inplace=False)\n",
            "  (dense_2): Linear(in_features=128, out_features=10, bias=True)\n",
            "  (log_softmax): LogSoftmax(dim=1)\n",
            ")\n"
          ]
        }
      ],
      "source": [
        "cnn = CNN()\n",
        "print(cnn)"
      ]
    },
    {
      "cell_type": "markdown",
      "metadata": {
        "id": "CcyIkfY4mtiU"
      },
      "source": [
        "### **Define loss function:**"
      ]
    },
    {
      "cell_type": "code",
      "execution_count": 15,
      "metadata": {
        "colab": {
          "base_uri": "https://localhost:8080/"
        },
        "id": "FCm1eIr3ILgg",
        "outputId": "cd58c2e8-92e1-4de3-91bb-3dc7b8aca53d"
      },
      "outputs": [
        {
          "data": {
            "text/plain": [
              "CrossEntropyLoss()"
            ]
          },
          "execution_count": 15,
          "metadata": {},
          "output_type": "execute_result"
        }
      ],
      "source": [
        "loss_func = nn.CrossEntropyLoss()\n",
        "loss_func"
      ]
    },
    {
      "cell_type": "markdown",
      "metadata": {
        "id": "VEMEc2gMmyBM"
      },
      "source": [
        "### **Define optimizer**"
      ]
    },
    {
      "cell_type": "code",
      "execution_count": 16,
      "metadata": {
        "colab": {
          "base_uri": "https://localhost:8080/"
        },
        "id": "uO4ANl_bIOs6",
        "outputId": "d9ad4826-9391-4ae3-c9bb-eb7fe888dd75"
      },
      "outputs": [
        {
          "data": {
            "text/plain": [
              "Adam (\n",
              "Parameter Group 0\n",
              "    amsgrad: False\n",
              "    betas: (0.9, 0.999)\n",
              "    capturable: False\n",
              "    differentiable: False\n",
              "    eps: 1e-08\n",
              "    foreach: None\n",
              "    fused: None\n",
              "    lr: 0.01\n",
              "    maximize: False\n",
              "    weight_decay: 0\n",
              ")"
            ]
          },
          "execution_count": 16,
          "metadata": {},
          "output_type": "execute_result"
        }
      ],
      "source": [
        "optimizer = optim.Adam(cnn.parameters(), lr = 0.01)\n",
        "optimizer"
      ]
    },
    {
      "cell_type": "markdown",
      "metadata": {},
      "source": [
        "### **Training process:**"
      ]
    },
    {
      "cell_type": "code",
      "execution_count": 17,
      "metadata": {
        "id": "E-W-zRieIRAY"
      },
      "outputs": [],
      "source": [
        "num_epochs = 10\n",
        "loss_list = []\n",
        "iteration_list = []\n",
        "accuracy_list = []\n",
        "\n",
        "def train(num_epochs, cnn, loaders):\n",
        "    cnn.train()\n",
        "    # Train the model\n",
        "    total_step = len(loaders['train'])\n",
        "\n",
        "    for epoch in range(num_epochs):\n",
        "\n",
        "        total_correct = 0\n",
        "        total_samples = 0\n",
        "        total_loss = 0\n",
        "\n",
        "        for images, labels in loaders['train']:\n",
        "\n",
        "            b_x = images.to(device)   # batch x\n",
        "            b_y = labels.to(device)   # batch y\n",
        "\n",
        "            # clear gradients for this training step\n",
        "            optimizer.zero_grad()\n",
        "\n",
        "            output = cnn(b_x)\n",
        "            loss = loss_func(output, b_y)\n",
        "            loss.backward()\n",
        "            optimizer.step()\n",
        "\n",
        "            _, predicted = torch.max(output.data, 1)\n",
        "            total_samples += labels.size(0)\n",
        "            total_correct += (predicted == labels).sum().item()\n",
        "            total_loss += loss.item()\n",
        "\n",
        "        accuracy = total_correct / total_samples\n",
        "        accuracy_list.append(accuracy)\n",
        "        loss_list.append(total_loss)\n",
        "        iteration_list.append(epoch)\n",
        "\n",
        "        print(f\"Epoch[{epoch}/{num_epochs}]. Accuracy: {accuracy}, Loss: {total_loss / len(loaders['train'])}\")\n"
      ]
    },
    {
      "cell_type": "code",
      "execution_count": 18,
      "metadata": {
        "colab": {
          "base_uri": "https://localhost:8080/"
        },
        "id": "_qX56F-_LgKF",
        "outputId": "8b0845f5-139a-440a-9b90-b1aac0973f10"
      },
      "outputs": [
        {
          "name": "stdout",
          "output_type": "stream",
          "text": [
            "Epoch[0/10]. Accuracy: 0.8589166666666667, Loss: 0.4502620596458515\n",
            "Epoch[1/10]. Accuracy: 0.8939, Loss: 0.34096046442985534\n",
            "Epoch[2/10]. Accuracy: 0.9025333333333333, Loss: 0.32347510523895423\n",
            "Epoch[3/10]. Accuracy: 0.9058, Loss: 0.31410874585111936\n",
            "Epoch[4/10]. Accuracy: 0.9082, Loss: 0.30528502577071387\n",
            "Epoch[5/10]. Accuracy: 0.9047333333333333, Loss: 0.3148079745153586\n",
            "Epoch[6/10]. Accuracy: 0.9039, Loss: 0.3184807828704516\n",
            "Epoch[7/10]. Accuracy: 0.9048666666666667, Loss: 0.31656942857007186\n",
            "Epoch[8/10]. Accuracy: 0.9072333333333333, Loss: 0.3104498915369312\n",
            "Epoch[9/10]. Accuracy: 0.9029166666666667, Loss: 0.32334994881351786\n",
            "CNN training time with Pytorch: 750.3159999847412\n"
          ]
        }
      ],
      "source": [
        "start_time = time.time()\n",
        "train(num_epochs, cnn, loaders)\n",
        "end_time = time.time()\n",
        "\n",
        "print(f\"CNN training time with Pytorch: {end_time - start_time}\")"
      ]
    },
    {
      "cell_type": "code",
      "execution_count": 19,
      "metadata": {
        "id": "SSKIQvwmIT7c"
      },
      "outputs": [
        {
          "name": "stdout",
          "output_type": "stream",
          "text": [
            "Test Accuracy of the model on the 10000 test images: 0.96\n"
          ]
        }
      ],
      "source": [
        "def test():\n",
        "    # Test the model\n",
        "    cnn.eval()\n",
        "    total_correct = 0\n",
        "    total_samples = 0\n",
        "\n",
        "    with torch.no_grad():\n",
        "        correct = 0\n",
        "        total = 0\n",
        "        for images, labels in loaders['test']:\n",
        "            images = images.to(device)   # batch x\n",
        "            labels = labels.to(device)\n",
        "\n",
        "            outputs = cnn(images)\n",
        "\n",
        "            _, predicted = torch.max(outputs, 1)\n",
        "            total_samples += labels.size(0)\n",
        "            total_correct += (predicted == labels).sum().item()\n",
        "\n",
        "    accuracy = total_correct / total_samples\n",
        "    print('Test Accuracy of the model on the 10000 test images: %.2f' % accuracy)\n",
        "\n",
        "    accuracy = total_correct / total_samples\n",
        "    pass\n",
        "test()"
      ]
    },
    {
      "cell_type": "code",
      "execution_count": 20,
      "metadata": {
        "id": "b0aT63lJIWaM"
      },
      "outputs": [],
      "source": [
        "sample = next(iter(loaders['test']))\n",
        "imgs, lbls = sample"
      ]
    },
    {
      "cell_type": "code",
      "execution_count": 21,
      "metadata": {
        "id": "_kW1wojeIYe_"
      },
      "outputs": [
        {
          "data": {
            "text/plain": [
              "array([4, 5, 0, 5, 4, 1, 5, 3, 4, 2], dtype=int64)"
            ]
          },
          "execution_count": 21,
          "metadata": {},
          "output_type": "execute_result"
        }
      ],
      "source": [
        "actual_number = lbls[:10].numpy()\n",
        "actual_number"
      ]
    },
    {
      "cell_type": "code",
      "execution_count": 22,
      "metadata": {
        "id": "ZVks5UmSIamy"
      },
      "outputs": [
        {
          "name": "stdout",
          "output_type": "stream",
          "text": [
            "Prediction number: tensor([4, 5, 0, 5, 4, 1, 5, 3, 4, 8])\n",
            "Actual number: [4 5 0 5 4 1 5 3 4 2]\n"
          ]
        }
      ],
      "source": [
        "test_output = cnn(imgs[:10])\n",
        "_,pred_y = torch.max(test_output, 1)\n",
        "print(f'Prediction number: {pred_y}')\n",
        "print(f'Actual number: {actual_number}')"
      ]
    }
  ],
  "metadata": {
    "colab": {
      "provenance": []
    },
    "kernelspec": {
      "display_name": "Python 3",
      "name": "python3"
    },
    "language_info": {
      "codemirror_mode": {
        "name": "ipython",
        "version": 3
      },
      "file_extension": ".py",
      "mimetype": "text/x-python",
      "name": "python",
      "nbconvert_exporter": "python",
      "pygments_lexer": "ipython3",
      "version": "3.11.4"
    }
  },
  "nbformat": 4,
  "nbformat_minor": 0
}
